{
  "nbformat": 4,
  "nbformat_minor": 0,
  "metadata": {
    "colab": {
      "provenance": [],
      "toc_visible": true,
      "gpuType": "T4"
    },
    "kernelspec": {
      "name": "python3",
      "display_name": "Python 3"
    },
    "language_info": {
      "name": "python"
    },
    "accelerator": "GPU"
  },
  "cells": [
    {
      "cell_type": "markdown",
      "source": [
        "# Isolating Meshes from DTS\n",
        "\n",
        "> DTS: Data of TotalSegmentator: https://zenodo.org/records/10047292\n",
        "\n",
        "* DTS is about 23 Gbs which is large. It contains 1228 patients' CT and structures.\n",
        "* The aim is to isolate one organ first (e.g. the liver) for training RegTR.\n",
        "* Colab is quite fast for server-server transfer. Takes about 15 minutes to download the entire dataset with 26 Mb/s."
      ],
      "metadata": {
        "id": "LLmxwOn7-JRC"
      }
    },
    {
      "cell_type": "markdown",
      "source": [
        "## Previous work on meshes\n",
        "\n",
        "* https://github.com/sunyu0410/pytorch3d/tree/mesh/niimesh\n",
        "  * Convert NIfTI to mesh (.obj)\n",
        "  * Warp meshes using centre of mass\n",
        "  * `voxelfy`, `to_mesh`, `NiiMesh`\n"
      ],
      "metadata": {
        "id": "JcG7TdnA-82R"
      }
    },
    {
      "cell_type": "markdown",
      "source": [
        "## Download DTS"
      ],
      "metadata": {
        "id": "ygnSK89pzCW4"
      }
    },
    {
      "cell_type": "code",
      "execution_count": null,
      "metadata": {
        "colab": {
          "base_uri": "https://localhost:8080/"
        },
        "id": "m7wBBDgG95Hg",
        "outputId": "bce6549f-c6a5-429c-8657-ba3343991e28"
      },
      "outputs": [
        {
          "output_type": "stream",
          "name": "stdout",
          "text": [
            "--2024-05-02 01:43:04--  https://zenodo.org/records/10047292/files/Totalsegmentator_dataset_v201.zip?download=1\n",
            "Resolving zenodo.org (zenodo.org)... 188.185.79.172, 188.184.103.159, 188.184.98.238, ...\n",
            "Connecting to zenodo.org (zenodo.org)|188.185.79.172|:443... connected.\n",
            "HTTP request sent, awaiting response... 200 OK\n",
            "Length: 23581218285 (22G) [application/octet-stream]\n",
            "Saving to: ‘Totalsegmentator_dataset_v201.zip?download=1’\n",
            "\n",
            "Totalsegmentator_da 100%[===================>]  21.96G  29.1MB/s    in 13m 0s  \n",
            "\n",
            "2024-05-02 01:56:05 (28.8 MB/s) - ‘Totalsegmentator_dataset_v201.zip?download=1’ saved [23581218285/23581218285]\n",
            "\n"
          ]
        }
      ],
      "source": [
        "!wget https://zenodo.org/records/10047292/files/Totalsegmentator_dataset_v201.zip?download=1"
      ]
    },
    {
      "cell_type": "code",
      "source": [
        "!mv Totalsegmentator_dataset_v201.zip\\?download\\=1 Totalsegmentator_dataset_v201.zip"
      ],
      "metadata": {
        "id": "wnfF3wqHBCwO"
      },
      "execution_count": null,
      "outputs": []
    },
    {
      "cell_type": "markdown",
      "source": [
        "## Extraction"
      ],
      "metadata": {
        "id": "VRYckspWCinV"
      }
    },
    {
      "cell_type": "code",
      "source": [
        "import zipfile\n",
        "from pathlib import Path\n",
        "\n",
        "import shutil\n",
        "import nibabel\n",
        "import numpy as np\n",
        "from tqdm import tqdm"
      ],
      "metadata": {
        "id": "ZJtz5mgYCiLH"
      },
      "execution_count": null,
      "outputs": []
    },
    {
      "cell_type": "code",
      "source": [
        "def extract_data(site, out_dir=None, in_zip='Totalsegmentator_dataset_v201.zip', total_n=1228):\n",
        "  zip_ref = zipfile.ZipFile(in_zip, 'r')\n",
        "  files = zip_ref.namelist()\n",
        "  files_site = [i for i in files if Path(i).name.split('.')[0] == site]\n",
        "\n",
        "  assert len(files_site) == total_n\n",
        "\n",
        "  unzip_dir = Path('unzip')\n",
        "  save_dir = Path(site) if out_dir is None else Path(out_dir)\n",
        "  if not unzip_dir.exists(): unzip_dir.mkdir()\n",
        "  if not save_dir.exists(): save_dir.mkdir()\n",
        "\n",
        "  for f in files_site:\n",
        "    zip_ref.extract(f, unzip_dir)\n",
        "\n",
        "  # Check weather the contour is empty\n",
        "  # If not, copy it; else keep note of the file\n",
        "  empty = []\n",
        "  for f in tqdm(files_site, desc=f'Copying {site}'):\n",
        "    src = unzip_dir / f\n",
        "    has_content = nibabel.load(src).get_fdata().astype(np.uint8).sum() > 0\n",
        "    if has_content:\n",
        "      dst = save_dir / f'{src.parents[1].name}_{site}.nii.gz'\n",
        "      shutil.copy(src, dst)\n",
        "    else:\n",
        "      empty.append(f)\n",
        "\n",
        "  return empty\n"
      ],
      "metadata": {
        "id": "xxgbMIWdfYtf"
      },
      "execution_count": null,
      "outputs": []
    },
    {
      "cell_type": "code",
      "source": [
        "extract_data('liver')"
      ],
      "metadata": {
        "colab": {
          "base_uri": "https://localhost:8080/"
        },
        "id": "f1AtXq44tkAG",
        "outputId": "9cf33d20-26f4-40ba-aa26-579db5aeeb3b"
      },
      "execution_count": null,
      "outputs": [
        {
          "output_type": "stream",
          "name": "stdout",
          "text": [
            "1228\n"
          ]
        },
        {
          "output_type": "stream",
          "name": "stderr",
          "text": [
            "100%|██████████| 1228/1228 [02:15<00:00,  9.05it/s]\n"
          ]
        }
      ]
    },
    {
      "cell_type": "code",
      "source": [
        "extract_data('kidney_left')"
      ],
      "metadata": {
        "colab": {
          "base_uri": "https://localhost:8080/"
        },
        "id": "4qfUiWFyhJ_h",
        "outputId": "fa1c29d4-c45e-46ad-bb4f-66bbca97c141"
      },
      "execution_count": null,
      "outputs": [
        {
          "output_type": "stream",
          "name": "stdout",
          "text": [
            "1228\n"
          ]
        },
        {
          "output_type": "stream",
          "name": "stderr",
          "text": [
            "100%|██████████| 1228/1228 [02:13<00:00,  9.19it/s]\n"
          ]
        }
      ]
    },
    {
      "cell_type": "code",
      "source": [
        "extract_data('kidney_right')"
      ],
      "metadata": {
        "colab": {
          "base_uri": "https://localhost:8080/"
        },
        "id": "qfxbXw2TuINQ",
        "outputId": "a97088b9-d140-4ca8-e29e-a70c0fc17ffd"
      },
      "execution_count": null,
      "outputs": [
        {
          "output_type": "stream",
          "name": "stdout",
          "text": [
            "1228\n"
          ]
        },
        {
          "output_type": "stream",
          "name": "stderr",
          "text": [
            "100%|██████████| 1228/1228 [02:21<00:00,  8.70it/s]\n"
          ]
        }
      ]
    },
    {
      "cell_type": "code",
      "source": [
        "!zip -qr /content/liver.zip liver\n",
        "!zip -qr /content/kidney_left.zip kidney_left\n",
        "!zip -qr /content/kidney_right.zip kidney_right"
      ],
      "metadata": {
        "id": "fdfD89VYuY9W"
      },
      "execution_count": null,
      "outputs": []
    },
    {
      "cell_type": "code",
      "source": [
        "sites = [\n",
        "  'lung_lower_lobe_left',\n",
        "  'lung_lower_lobe_right',\n",
        "  'lung_middle_lobe_right',\n",
        "  'lung_upper_lobe_left',\n",
        "  'lung_upper_lobe_right',\n",
        "  'skull',\n",
        "  'brain',\n",
        "]"
      ],
      "metadata": {
        "id": "fQ2tWTC5xSNs"
      },
      "execution_count": null,
      "outputs": []
    },
    {
      "cell_type": "code",
      "source": [
        "for site in sites:\n",
        "  _ = extract_data(site)\n",
        "  !zip -qr /content/{site}.zip {site}\n"
      ],
      "metadata": {
        "colab": {
          "base_uri": "https://localhost:8080/"
        },
        "id": "LTEZrGpvxg0c",
        "outputId": "cdff6347-4731-41cf-9327-906368411d78"
      },
      "execution_count": null,
      "outputs": [
        {
          "output_type": "stream",
          "name": "stderr",
          "text": [
            "Copying lung_lower_lobe_left: 100%|██████████| 1228/1228 [02:12<00:00,  9.25it/s]\n",
            "Copying lung_lower_lobe_right: 100%|██████████| 1228/1228 [02:12<00:00,  9.23it/s]\n",
            "Copying lung_middle_lobe_right: 100%|██████████| 1228/1228 [02:13<00:00,  9.17it/s]\n",
            "Copying lung_upper_lobe_left: 100%|██████████| 1228/1228 [02:13<00:00,  9.22it/s]\n",
            "Copying lung_upper_lobe_right: 100%|██████████| 1228/1228 [02:15<00:00,  9.08it/s]\n",
            "Copying skull: 100%|██████████| 1228/1228 [02:15<00:00,  9.03it/s]\n",
            "Copying brain: 100%|██████████| 1228/1228 [02:15<00:00,  9.07it/s]\n"
          ]
        }
      ]
    },
    {
      "cell_type": "code",
      "source": [
        "!ls *.zip"
      ],
      "metadata": {
        "colab": {
          "base_uri": "https://localhost:8080/"
        },
        "id": "lLIsn4x_4vZt",
        "outputId": "1787b96b-2f06-43df-d540-015a36a608f1"
      },
      "execution_count": null,
      "outputs": [
        {
          "output_type": "stream",
          "name": "stdout",
          "text": [
            "brain.zip\t  lung_lower_lobe_left.zip    lung_upper_lobe_right.zip\n",
            "kidney_left.zip   lung_lower_lobe_right.zip   skull.zip\n",
            "kidney_right.zip  lung_middle_lobe_right.zip  Totalsegmentator_dataset_v201.zip\n",
            "liver.zip\t  lung_upper_lobe_left.zip\n"
          ]
        }
      ]
    },
    {
      "cell_type": "code",
      "source": [
        "!mkdir structures"
      ],
      "metadata": {
        "id": "yDwjeOGC4ysL"
      },
      "execution_count": null,
      "outputs": []
    },
    {
      "cell_type": "code",
      "source": [
        "!mv brain.zip\t  lung_lower_lobe_left.zip    lung_upper_lobe_right.zip \\\n",
        "kidney_left.zip   lung_lower_lobe_right.zip   skull.zip \\\n",
        "kidney_right.zip  lung_middle_lobe_right.zip  liver.zip\t  lung_upper_lobe_left.zip \\\n",
        " structures"
      ],
      "metadata": {
        "id": "0l5vVXHJ437v"
      },
      "execution_count": null,
      "outputs": []
    },
    {
      "cell_type": "code",
      "source": [
        "!zip -qr structures.zip structures"
      ],
      "metadata": {
        "id": "kbJMZfsU5EMk"
      },
      "execution_count": null,
      "outputs": []
    },
    {
      "cell_type": "code",
      "source": [
        "# prompt: mount drive\n",
        "\n",
        "from google.colab import drive\n",
        "drive.mount('/content/drive')\n"
      ],
      "metadata": {
        "colab": {
          "base_uri": "https://localhost:8080/"
        },
        "id": "0vW-d2095IiK",
        "outputId": "dbe7b4c0-d3c6-43d3-e61f-5fb73cee2771"
      },
      "execution_count": null,
      "outputs": [
        {
          "output_type": "stream",
          "name": "stdout",
          "text": [
            "Mounted at /content/drive\n"
          ]
        }
      ]
    },
    {
      "cell_type": "code",
      "source": [
        "!cp structures.zip /content/drive/MyDrive/regtr_structures.zip"
      ],
      "metadata": {
        "id": "wcer6HOJ5Kx5"
      },
      "execution_count": null,
      "outputs": []
    },
    {
      "cell_type": "markdown",
      "source": [
        "## Get an list of organs"
      ],
      "metadata": {
        "id": "_z2L-UwRxBWf"
      }
    },
    {
      "cell_type": "code",
      "source": [
        "in_zip='Totalsegmentator_dataset_v201.zip'"
      ],
      "metadata": {
        "id": "YaK-ScaQfLPs"
      },
      "execution_count": null,
      "outputs": []
    },
    {
      "cell_type": "code",
      "source": [
        "zip_ref = zipfile.ZipFile(in_zip, 'r')\n",
        "files = zip_ref.namelist()"
      ],
      "metadata": {
        "id": "jeaxFH3PwTou"
      },
      "execution_count": null,
      "outputs": []
    },
    {
      "cell_type": "code",
      "source": [
        "temp = [Path(i) for i in files]"
      ],
      "metadata": {
        "id": "RKyANhylwXNJ"
      },
      "execution_count": null,
      "outputs": []
    },
    {
      "cell_type": "code",
      "source": [
        "temp[0]"
      ],
      "metadata": {
        "colab": {
          "base_uri": "https://localhost:8080/"
        },
        "id": "AoBM3XmcwZ0q",
        "outputId": "7525ea9a-1e56-4f16-b212-e11cd08b82fd"
      },
      "execution_count": null,
      "outputs": [
        {
          "output_type": "execute_result",
          "data": {
            "text/plain": [
              "PosixPath('s0000')"
            ]
          },
          "metadata": {},
          "execution_count": 23
        }
      ]
    },
    {
      "cell_type": "code",
      "source": [
        "temp2 = [i for i in temp if i.name.endswith('.nii.gz')]"
      ],
      "metadata": {
        "id": "3PHfru7LwbGl"
      },
      "execution_count": null,
      "outputs": []
    },
    {
      "cell_type": "code",
      "source": [
        "len(temp2) / 1228"
      ],
      "metadata": {
        "colab": {
          "base_uri": "https://localhost:8080/"
        },
        "id": "yDJ-nkkowjB2",
        "outputId": "131dbf7b-188d-4524-ed23-2e2431b6e627"
      },
      "execution_count": null,
      "outputs": [
        {
          "output_type": "execute_result",
          "data": {
            "text/plain": [
              "118.0"
            ]
          },
          "metadata": {},
          "execution_count": 26
        }
      ]
    },
    {
      "cell_type": "code",
      "source": [
        "temp3 = set([i.name for i in temp2])"
      ],
      "metadata": {
        "id": "7Mf_EEVtwjum"
      },
      "execution_count": null,
      "outputs": []
    },
    {
      "cell_type": "code",
      "source": [
        "temp3"
      ],
      "metadata": {
        "colab": {
          "base_uri": "https://localhost:8080/"
        },
        "id": "vGPSf30owra-",
        "outputId": "9a13f417-a808-4d9e-e936-29e2e44cf154"
      },
      "execution_count": null,
      "outputs": [
        {
          "output_type": "execute_result",
          "data": {
            "text/plain": [
              "{'adrenal_gland_left.nii.gz',\n",
              " 'adrenal_gland_right.nii.gz',\n",
              " 'aorta.nii.gz',\n",
              " 'atrial_appendage_left.nii.gz',\n",
              " 'autochthon_left.nii.gz',\n",
              " 'autochthon_right.nii.gz',\n",
              " 'brachiocephalic_trunk.nii.gz',\n",
              " 'brachiocephalic_vein_left.nii.gz',\n",
              " 'brachiocephalic_vein_right.nii.gz',\n",
              " 'brain.nii.gz',\n",
              " 'clavicula_left.nii.gz',\n",
              " 'clavicula_right.nii.gz',\n",
              " 'colon.nii.gz',\n",
              " 'common_carotid_artery_left.nii.gz',\n",
              " 'common_carotid_artery_right.nii.gz',\n",
              " 'costal_cartilages.nii.gz',\n",
              " 'ct.nii.gz',\n",
              " 'duodenum.nii.gz',\n",
              " 'esophagus.nii.gz',\n",
              " 'femur_left.nii.gz',\n",
              " 'femur_right.nii.gz',\n",
              " 'gallbladder.nii.gz',\n",
              " 'gluteus_maximus_left.nii.gz',\n",
              " 'gluteus_maximus_right.nii.gz',\n",
              " 'gluteus_medius_left.nii.gz',\n",
              " 'gluteus_medius_right.nii.gz',\n",
              " 'gluteus_minimus_left.nii.gz',\n",
              " 'gluteus_minimus_right.nii.gz',\n",
              " 'heart.nii.gz',\n",
              " 'hip_left.nii.gz',\n",
              " 'hip_right.nii.gz',\n",
              " 'humerus_left.nii.gz',\n",
              " 'humerus_right.nii.gz',\n",
              " 'iliac_artery_left.nii.gz',\n",
              " 'iliac_artery_right.nii.gz',\n",
              " 'iliac_vena_left.nii.gz',\n",
              " 'iliac_vena_right.nii.gz',\n",
              " 'iliopsoas_left.nii.gz',\n",
              " 'iliopsoas_right.nii.gz',\n",
              " 'inferior_vena_cava.nii.gz',\n",
              " 'kidney_cyst_left.nii.gz',\n",
              " 'kidney_cyst_right.nii.gz',\n",
              " 'kidney_left.nii.gz',\n",
              " 'kidney_right.nii.gz',\n",
              " 'liver.nii.gz',\n",
              " 'lung_lower_lobe_left.nii.gz',\n",
              " 'lung_lower_lobe_right.nii.gz',\n",
              " 'lung_middle_lobe_right.nii.gz',\n",
              " 'lung_upper_lobe_left.nii.gz',\n",
              " 'lung_upper_lobe_right.nii.gz',\n",
              " 'pancreas.nii.gz',\n",
              " 'portal_vein_and_splenic_vein.nii.gz',\n",
              " 'prostate.nii.gz',\n",
              " 'pulmonary_vein.nii.gz',\n",
              " 'rib_left_1.nii.gz',\n",
              " 'rib_left_10.nii.gz',\n",
              " 'rib_left_11.nii.gz',\n",
              " 'rib_left_12.nii.gz',\n",
              " 'rib_left_2.nii.gz',\n",
              " 'rib_left_3.nii.gz',\n",
              " 'rib_left_4.nii.gz',\n",
              " 'rib_left_5.nii.gz',\n",
              " 'rib_left_6.nii.gz',\n",
              " 'rib_left_7.nii.gz',\n",
              " 'rib_left_8.nii.gz',\n",
              " 'rib_left_9.nii.gz',\n",
              " 'rib_right_1.nii.gz',\n",
              " 'rib_right_10.nii.gz',\n",
              " 'rib_right_11.nii.gz',\n",
              " 'rib_right_12.nii.gz',\n",
              " 'rib_right_2.nii.gz',\n",
              " 'rib_right_3.nii.gz',\n",
              " 'rib_right_4.nii.gz',\n",
              " 'rib_right_5.nii.gz',\n",
              " 'rib_right_6.nii.gz',\n",
              " 'rib_right_7.nii.gz',\n",
              " 'rib_right_8.nii.gz',\n",
              " 'rib_right_9.nii.gz',\n",
              " 'sacrum.nii.gz',\n",
              " 'scapula_left.nii.gz',\n",
              " 'scapula_right.nii.gz',\n",
              " 'skull.nii.gz',\n",
              " 'small_bowel.nii.gz',\n",
              " 'spinal_cord.nii.gz',\n",
              " 'spleen.nii.gz',\n",
              " 'sternum.nii.gz',\n",
              " 'stomach.nii.gz',\n",
              " 'subclavian_artery_left.nii.gz',\n",
              " 'subclavian_artery_right.nii.gz',\n",
              " 'superior_vena_cava.nii.gz',\n",
              " 'thyroid_gland.nii.gz',\n",
              " 'trachea.nii.gz',\n",
              " 'urinary_bladder.nii.gz',\n",
              " 'vertebrae_C1.nii.gz',\n",
              " 'vertebrae_C2.nii.gz',\n",
              " 'vertebrae_C3.nii.gz',\n",
              " 'vertebrae_C4.nii.gz',\n",
              " 'vertebrae_C5.nii.gz',\n",
              " 'vertebrae_C6.nii.gz',\n",
              " 'vertebrae_C7.nii.gz',\n",
              " 'vertebrae_L1.nii.gz',\n",
              " 'vertebrae_L2.nii.gz',\n",
              " 'vertebrae_L3.nii.gz',\n",
              " 'vertebrae_L4.nii.gz',\n",
              " 'vertebrae_L5.nii.gz',\n",
              " 'vertebrae_S1.nii.gz',\n",
              " 'vertebrae_T1.nii.gz',\n",
              " 'vertebrae_T10.nii.gz',\n",
              " 'vertebrae_T11.nii.gz',\n",
              " 'vertebrae_T12.nii.gz',\n",
              " 'vertebrae_T2.nii.gz',\n",
              " 'vertebrae_T3.nii.gz',\n",
              " 'vertebrae_T4.nii.gz',\n",
              " 'vertebrae_T5.nii.gz',\n",
              " 'vertebrae_T6.nii.gz',\n",
              " 'vertebrae_T7.nii.gz',\n",
              " 'vertebrae_T8.nii.gz',\n",
              " 'vertebrae_T9.nii.gz'}"
            ]
          },
          "metadata": {},
          "execution_count": 28
        }
      ]
    },
    {
      "cell_type": "code",
      "source": [
        "len(temp3)"
      ],
      "metadata": {
        "colab": {
          "base_uri": "https://localhost:8080/"
        },
        "id": "hhyD91WRwsGO",
        "outputId": "f6e85d57-641d-4f06-83bd-a1a748782df6"
      },
      "execution_count": null,
      "outputs": [
        {
          "output_type": "execute_result",
          "data": {
            "text/plain": [
              "118"
            ]
          },
          "metadata": {},
          "execution_count": 35
        }
      ]
    },
    {
      "cell_type": "markdown",
      "source": [
        "## Convert to Mesh"
      ],
      "metadata": {
        "id": "7oRbehOz5VOB"
      }
    },
    {
      "cell_type": "markdown",
      "source": [
        "* Have problem running `pytorch3d` in Colab -> `pytorch3d.ops` can't be imported.\n",
        "* PMCC cluster runs: `/physical_sciences/yusun/pytorch3d/env`"
      ],
      "metadata": {
        "id": "0EuPhHg8DWDy"
      }
    },
    {
      "cell_type": "code",
      "source": [
        "!git clone https://github.com/sunyu0410/pytorch3d.git"
      ],
      "metadata": {
        "colab": {
          "base_uri": "https://localhost:8080/"
        },
        "id": "qzTYKgmb-w4f",
        "outputId": "76ea4252-5b41-4af9-ca1d-f6ec6f46dd52"
      },
      "execution_count": null,
      "outputs": [
        {
          "output_type": "stream",
          "name": "stdout",
          "text": [
            "Cloning into 'pytorch3d'...\n",
            "remote: Enumerating objects: 12649, done.\u001b[K\n",
            "remote: Counting objects: 100% (2190/2190), done.\u001b[K\n",
            "remote: Compressing objects: 100% (149/149), done.\u001b[K\n",
            "remote: Total 12649 (delta 2051), reused 2041 (delta 2041), pack-reused 10459\u001b[K\n",
            "Receiving objects: 100% (12649/12649), 49.35 MiB | 34.95 MiB/s, done.\n",
            "Resolving deltas: 100% (9084/9084), done.\n"
          ]
        }
      ]
    },
    {
      "cell_type": "code",
      "source": [
        "import os\n",
        "os.chdir('pytorch3d')\n",
        "!git checkout mesh"
      ],
      "metadata": {
        "colab": {
          "base_uri": "https://localhost:8080/"
        },
        "id": "8Kyo06_h-yBf",
        "outputId": "70ee21fe-2baa-4727-aa7b-da9767c50c2f"
      },
      "execution_count": null,
      "outputs": [
        {
          "output_type": "stream",
          "name": "stdout",
          "text": [
            "Branch 'mesh' set up to track remote branch 'mesh' from 'origin'.\n",
            "Switched to a new branch 'mesh'\n"
          ]
        }
      ]
    },
    {
      "cell_type": "code",
      "source": [
        "!pip install /content/drive/MyDrive/py_wheel/pytorch3d-0.1.0-cp37-cp37m-linux_x86_64.whl"
      ],
      "metadata": {
        "colab": {
          "base_uri": "https://localhost:8080/"
        },
        "id": "PxgoAa-s_tvV",
        "outputId": "8613b3e9-5b57-4f67-9516-2601c1aa1cb5"
      },
      "execution_count": null,
      "outputs": [
        {
          "output_type": "stream",
          "name": "stdout",
          "text": [
            "\u001b[33mWARNING: Requirement '/content/drive/MyDrive/py_wheel/pytorch3d-0.1.0-cp37-cp37m-linux_x86_64.whl' looks like a filename, but the file does not exist\u001b[0m\u001b[33m\n",
            "\u001b[0m\u001b[31mERROR: pytorch3d-0.1.0-cp37-cp37m-linux_x86_64.whl is not a supported wheel on this platform.\u001b[0m\u001b[31m\n",
            "\u001b[0m"
          ]
        }
      ]
    },
    {
      "cell_type": "code",
      "source": [
        "from pytorch3d import ops"
      ],
      "metadata": {
        "colab": {
          "base_uri": "https://localhost:8080/",
          "height": 314
        },
        "id": "J7Ek0kPe5Zj4",
        "outputId": "fd4a4eb5-a63f-47dc-f7f0-ec26c122ddc1"
      },
      "execution_count": null,
      "outputs": [
        {
          "output_type": "error",
          "ename": "ImportError",
          "evalue": "cannot import name 'ops' from 'pytorch3d' (/usr/local/lib/python3.10/dist-packages/pytorch3d/__init__.py)",
          "traceback": [
            "\u001b[0;31m---------------------------------------------------------------------------\u001b[0m",
            "\u001b[0;31mImportError\u001b[0m                               Traceback (most recent call last)",
            "\u001b[0;32m<ipython-input-11-a29f2c080821>\u001b[0m in \u001b[0;36m<cell line: 1>\u001b[0;34m()\u001b[0m\n\u001b[0;32m----> 1\u001b[0;31m \u001b[0;32mfrom\u001b[0m \u001b[0mpytorch3d\u001b[0m \u001b[0;32mimport\u001b[0m \u001b[0mops\u001b[0m\u001b[0;34m\u001b[0m\u001b[0;34m\u001b[0m\u001b[0m\n\u001b[0m",
            "\u001b[0;31mImportError\u001b[0m: cannot import name 'ops' from 'pytorch3d' (/usr/local/lib/python3.10/dist-packages/pytorch3d/__init__.py)",
            "",
            "\u001b[0;31m---------------------------------------------------------------------------\u001b[0;32m\nNOTE: If your import is failing due to a missing package, you can\nmanually install dependencies using either !pip or !apt.\n\nTo view examples of installing some common dependencies, click the\n\"Open Examples\" button below.\n\u001b[0;31m---------------------------------------------------------------------------\u001b[0m\n"
          ],
          "errorDetails": {
            "actions": [
              {
                "action": "open_url",
                "actionText": "Open Examples",
                "url": "/notebooks/snippets/importing_libraries.ipynb"
              }
            ]
          }
        }
      ]
    },
    {
      "cell_type": "code",
      "source": [
        "!os.chdir('skull')"
      ],
      "metadata": {
        "colab": {
          "base_uri": "https://localhost:8080/"
        },
        "id": "f4jeczpm5bho",
        "outputId": "392c0009-38a4-4821-b0af-5091710be432"
      },
      "execution_count": null,
      "outputs": [
        {
          "output_type": "stream",
          "name": "stdout",
          "text": [
            "/bin/bash: -c: line 1: syntax error near unexpected token `'skull''\n",
            "/bin/bash: -c: line 1: `os.chdir('skull')'\n"
          ]
        }
      ]
    },
    {
      "cell_type": "code",
      "source": [
        "import torch"
      ],
      "metadata": {
        "id": "-3N9ZaDs5_X_"
      },
      "execution_count": null,
      "outputs": []
    },
    {
      "cell_type": "code",
      "source": [],
      "metadata": {
        "id": "UUbD02Qp6Xvn"
      },
      "execution_count": null,
      "outputs": []
    }
  ]
}